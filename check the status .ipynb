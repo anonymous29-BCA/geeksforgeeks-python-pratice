{
 "cells": [
  {
   "cell_type": "code",
   "execution_count": null,
   "id": "096bba96-fee7-455d-9cac-ffe9858b15ca",
   "metadata": {},
   "outputs": [],
   "source": [
    "a=int(input(\"enter the number:\"))\n",
    "b=int(input(\"enter the number:\"))\n",
    "if a>0 and b>0:\n",
    "        print(\"True\")\n",
    "elif a<0 and b<0:\n",
    "        print(\"True\")\n",
    "else:\n",
    "        print(\"False\")"
   ]
  }
 ],
 "metadata": {
  "kernelspec": {
   "display_name": "Python 3 (ipykernel)",
   "language": "python",
   "name": "python3"
  },
  "language_info": {
   "codemirror_mode": {
    "name": "ipython",
    "version": 3
   },
   "file_extension": ".py",
   "mimetype": "text/x-python",
   "name": "python",
   "nbconvert_exporter": "python",
   "pygments_lexer": "ipython3",
   "version": "3.12.4"
  }
 },
 "nbformat": 4,
 "nbformat_minor": 5
}
